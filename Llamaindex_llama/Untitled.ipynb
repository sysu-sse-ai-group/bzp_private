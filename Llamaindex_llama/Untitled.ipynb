{
 "cells": [
  {
   "cell_type": "code",
   "execution_count": 1,
   "metadata": {
    "pycharm": {
     "name": "#%%\n"
    }
   },
   "outputs": [
    {
     "name": "stdout",
     "output_type": "stream",
     "text": [
      "1\n",
      "nodes_time: 0.014000654220581055\n"
     ]
    },
    {
     "data": {
      "text/markdown": [
       "**Node ID:** 13bf3e74-943b-4d57-85f3-a131d1ac4151<br>**Similarity:** 0.0<br>**Text:** 男孩早泄究竟是什么因素引发的,现在18岁了，最近半年，发觉，性生活总是提不起劲，同时，每次才开始就已经射了，请问：男孩早泄究竟是什么因素引发的。\r\n",
       "可能诱发早泄的因素，与多个方面都有一定的影响，...<br>"
      ],
      "text/plain": [
       "<IPython.core.display.Markdown object>"
      ]
     },
     "metadata": {},
     "output_type": "display_data"
    },
    {
     "data": {
      "text/markdown": [
       "**Node ID:** efe2d333-250e-4939-828a-6fd5c67cfae0<br>**Similarity:** 0.0<br>**Text:** 男孩早泄是哪些方面诱发的,49岁，男性，最近半年，发现，房事不太给力，此外，每次刚进去就射了，请问：男孩早泄是哪些方面诱发的。\r\n",
       "引发早泄的主要病因，和很多方面都相关，常见的是患者自身的心里因素...<br>"
      ],
      "text/plain": [
       "<IPython.core.display.Markdown object>"
      ]
     },
     "metadata": {},
     "output_type": "display_data"
    },
    {
     "data": {
      "text/markdown": [
       "**Node ID:** da3a40a3-d73a-437f-ad81-c7aec424068f<br>**Similarity:** 0.0<br>**Text:** 男孩早泄是哪些方面引起的,43岁，男性，最近半个月，觉得，房事不太给力，同时，射精的时间特别快，请问：男孩早泄是哪些方面引起的。\r\n",
       "之所以会发生早泄，与很多方面都有关联，其中心理问题是比较主要的...<br>"
      ],
      "text/plain": [
       "<IPython.core.display.Markdown object>"
      ]
     },
     "metadata": {},
     "output_type": "display_data"
    },
    {
     "name": "stdout",
     "output_type": "stream",
     "text": [
      "retriever_time:   0.0362856388092041\n"
     ]
    }
   ],
   "source": [
    "from llama_index.core.indices.vector_store import VectorIndexRetriever\n",
    "from llama_index.core.postprocessor import SimilarityPostprocessor\n",
    "from llama_index.core.query_engine import RetrieverQueryEngine\n",
    "from llama_index.llms.ollama import Ollama\n",
    "from llama_index.core.node_parser import SentenceSplitter\n",
    "from llama_index.embeddings.huggingface import HuggingFaceEmbedding\n",
    "from llama_index.core import Settings, SummaryIndex, load_index_from_storage, StorageContext, Settings, \\\n",
    "    SimpleDirectoryReader, VectorStoreIndex, DocumentSummaryIndex, get_response_synthesizer\n",
    "\n",
    "from llama_index.embeddings.ollama import OllamaEmbedding\n",
    "from llama_index.core.node_parser import SentenceSplitter\n",
    "from llama_index.core.extractors import TitleExtractor\n",
    "from llama_index.core.ingestion import IngestionPipeline\n",
    "import time\n",
    "import chromadb\n",
    "\n",
    "from llama_index.core.retrievers import QueryFusionRetriever\n",
    "from llama_index.core.retrievers import SummaryIndexLLMRetriever\n",
    "from llama_index.retrievers.bm25 import BM25Retriever\n",
    "\n",
    "from llama_index.core.query_engine import CustomQueryEngine\n",
    "from llama_index.core.retrievers import BaseRetriever\n",
    "from llama_index.core import get_response_synthesizer\n",
    "from llama_index.core.response_synthesizers import BaseSynthesizer\n",
    "from llama_index.core.response_synthesizers import ResponseMode\n",
    "from llama_index.core.tools import RetrieverTool\n",
    "from llama_index.core.response.notebook_utils import display_source_node\n",
    "import logging\n",
    "import sys\n",
    "\n",
    "logging.basicConfig(stream=sys.stdout, level=logging.INFO)\n",
    "logging.getLogger().handlers = []\n",
    "logging.getLogger().addHandler(logging.StreamHandler(stream=sys.stdout))\n",
    "\n",
    "# load documents\n",
    "ollama_embedding = OllamaEmbedding(\n",
    "    model_name=\"llama2\",\n",
    "    base_url=\"http://localhost:11434\",\n",
    "    ollama_additional_kwargs={\"mirostat\": 0},\n",
    "    embed_batch_size=100\n",
    ")\n",
    "\n",
    "documents = SimpleDirectoryReader(\"G:\\data\\Chinese-medical-dialogue-data-master\\Data_statistic\\\\aaa\").load_data()\n",
    "llm = Settings.llm = Ollama(base_url=\"http://localhost:11434\",model=\"llama2\",)\n",
    "Settings.embed_model = ollama_embedding\n",
    "splitter = SentenceSplitter(chunk_size=512)\n",
    "print(\"1\")\n",
    "t1 = time.time()\n",
    "nodes = splitter.get_nodes_from_documents(documents)\n",
    "# initialize storage context (by default it's in-memory)\n",
    "storage_context = StorageContext.from_defaults()\n",
    "storage_context.docstore.add_documents(nodes)\n",
    "\n",
    "# index = VectorStoreIndex(\n",
    "#     nodes=nodes,\n",
    "#     storage_context=storage_context,\n",
    "# )\n",
    "\n",
    "\n",
    "t2 = time.time()\n",
    "print(\"nodes_time:\",t2-t1)\n",
    "\n",
    "retriever = BM25Retriever.from_defaults(nodes=nodes, similarity_top_k=3)\n",
    "A = retriever.retrieve(\"早泄的症状是什么\")\n",
    "\n",
    "for a in A:\n",
    "    display_source_node(a)\n",
    "    \n",
    "\n",
    "\n",
    "t3 = time.time()\n",
    "print(\"retriever_time:  \",t3-t2)\n",
    "\n",
    "# synthesizer = get_response_synthesizer(\n",
    "#     llm=llm,\n",
    "#     response_mode=ResponseMode.SIMPLE_SUMMARIZE,\n",
    "#     use_async=False,\n",
    "#     streaming=False,\n",
    "# )\n",
    "#\n",
    "# query_engine = RAGQueryEngine(\n",
    "#     retriever= retriever, response_synthesizer=synthesizer,llm=llm\n",
    "# )\n",
    "# t3 = time.time()\n",
    "# print(\"retriever:\",t3-t2)\n",
    "# response = query_engine.query(\"早泄怎么办,可以用中文回答吗\")\n",
    "# print(response)"
   ]
  },
  {
   "cell_type": "code",
   "execution_count": null,
   "metadata": {
    "pycharm": {
     "name": "#%%\n"
    }
   },
   "outputs": [],
   "source": []
  }
 ],
 "metadata": {
  "kernelspec": {
   "display_name": "llamaindex_llama",
   "language": "python",
   "name": "llamaindex_llama"
  },
  "language_info": {
   "codemirror_mode": {
    "name": "ipython",
    "version": 3
   },
   "file_extension": ".py",
   "mimetype": "text/x-python",
   "name": "python",
   "nbconvert_exporter": "python",
   "pygments_lexer": "ipython3",
   "version": "3.11.8"
  }
 },
 "nbformat": 4,
 "nbformat_minor": 2
}